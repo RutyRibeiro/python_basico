{
 "cells": [
  {
   "cell_type": "markdown",
   "metadata": {},
   "source": [
    "# Estruturas condicionais pt.1"
   ]
  },
  {
   "cell_type": "markdown",
   "metadata": {},
   "source": [
    "## IF Simples\n",
    "\n",
    "O if simples é utilizado quando queremos que um bloco de código seja executado apenas se uma condição for verdadeira."
   ]
  },
  {
   "cell_type": "code",
   "execution_count": null,
   "metadata": {},
   "outputs": [],
   "source": [
    "numero = 10\n",
    "if numero > 5:\n",
    "    print(\"O número é maior que 5\")"
   ]
  },
  {
   "cell_type": "markdown",
   "metadata": {},
   "source": [
    "### Imagine a seguinte situação: \n",
    "Você está em um parque de diversões. \n",
    "No entanto, há uma placa que diz: “Você deve ter pelo menos 1,20m de altura para andar na montanha-russa”, como ficaria essa situação traduzida para o python?\n",
    "\n"
   ]
  },
  {
   "cell_type": "markdown",
   "metadata": {},
   "source": [
    "## IF Composto\n",
    "O if composto, também conhecido como if-else, é utilizado quando queremos que um bloco de código seja executado se uma condição for verdadeira e outro bloco seja executado se a condição for falsa."
   ]
  },
  {
   "cell_type": "code",
   "execution_count": null,
   "metadata": {},
   "outputs": [],
   "source": [
    "idade = 18\n",
    "if idade >= 18:\n",
    "    print(\"Você é maior de idade\")\n",
    "else:\n",
    "    print(\"Você é menor de idade\")"
   ]
  },
  {
   "cell_type": "markdown",
   "metadata": {},
   "source": [
    "### No parque de diversões\n",
    "\n",
    "Agora, imagine que se você tiver menos de 1,20m de altura, eles te dão um sorvete grátis para compensar. \n",
    "\n",
    "Como seria no python?"
   ]
  },
  {
   "cell_type": "markdown",
   "metadata": {},
   "source": [
    "## IF Encadeado\n",
    "O if encadeado, também conhecido como if-elif-else, é utilizado quando temos várias condições para verificar."
   ]
  },
  {
   "cell_type": "code",
   "execution_count": null,
   "metadata": {},
   "outputs": [],
   "source": [
    "nota = 85\n",
    "if nota >= 90:\n",
    "    print(\"Sua nota é A\")\n",
    "elif nota >= 80:\n",
    "    print(\"Sua nota é B\")\n",
    "elif nota >= 70:\n",
    "    print(\"Sua nota é C\")\n",
    "elif nota >= 60:\n",
    "    print(\"Sua nota é D\")\n",
    "else:\n",
    "    print(\"Sua nota é F\")"
   ]
  },
  {
   "cell_type": "markdown",
   "metadata": {},
   "source": [
    "### No parque de diversões\n",
    "\n",
    "Por fim, imagine que se você tiver mais de 1,50m de altura, você pode andar na montanha-russa e também no brinquedo de queda livre. Isso é como um if encadeado.\n",
    "\n",
    "Como seria no python?"
   ]
  },
  {
   "cell_type": "markdown",
   "metadata": {},
   "source": [
    "## Exercícios\n",
    "Aqui estão alguns exercícios que você pode fazer para praticar o uso de `if` em Python:"
   ]
  },
  {
   "cell_type": "markdown",
   "metadata": {},
   "source": [
    "1. Receba um número, verifique se é par ou ímpar, retorne a resposta;\n",
    "2. Verifique se um aluno passou ou não baseado na nota, considerando 6 a média;\n",
    "3. Receba a idade de uma pessoa, determine a faixa etária dela, considerando: Menor de 13 - criança, menor de 18 - adolescente, menor de 60 - adulto, maior que 60 - idoso, retorne o resultado."
   ]
  }
 ],
 "metadata": {
  "kernelspec": {
   "display_name": "Python 3",
   "language": "python",
   "name": "python3"
  },
  "language_info": {
   "codemirror_mode": {
    "name": "ipython",
    "version": 3
   },
   "file_extension": ".py",
   "mimetype": "text/x-python",
   "name": "python",
   "nbconvert_exporter": "python",
   "pygments_lexer": "ipython3",
   "version": "3.8.5"
  }
 },
 "nbformat": 4,
 "nbformat_minor": 4
}
