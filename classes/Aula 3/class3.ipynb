{
 "cells": [
  {
   "cell_type": "markdown",
   "metadata": {},
   "source": [
    "# Operadores\n",
    "\n",
    "## Operador 'and'\n",
    "\n",
    "O operador 'and' é um operador lógico que retorna True se ambas as expressões ou condições em ambos os lados forem verdadeiras."
   ]
  },
  {
   "cell_type": "code",
   "execution_count": 1,
   "metadata": {},
   "outputs": [
    {
     "name": "stdout",
     "output_type": "stream",
     "text": [
      "x é menor que y e y é menor que z.\n"
     ]
    }
   ],
   "source": [
    "x = 5\n",
    "y = 10\n",
    "z = 15\n",
    "\n",
    "# Verifica se x é menor que y e y é menor que z\n",
    "if x < y and y < z:\n",
    "    print(\"x é menor que y e y é menor que z.\")\n",
    "else:\n",
    "    print(\"A condição não é verdadeira.\")"
   ]
  },
  {
   "cell_type": "markdown",
   "metadata": {},
   "source": [
    "## Operador 'or':\n",
    "\n",
    "O operador 'or' retorna True se pelo menos uma das condições for verdadeira. Vamos ver um exemplo simples:"
   ]
  },
  {
   "cell_type": "code",
   "execution_count": null,
   "metadata": {},
   "outputs": [],
   "source": [
    "# Exemplo do operador or\n",
    "x = 5\n",
    "y = 10\n",
    "\n",
    "if x > 3 or y < 5:\n",
    "    print(\"Pelo menos uma condição é verdadeira.\")\n",
    "else:\n",
    "    print(\"Nenhuma condição é verdadeira.\")"
   ]
  },
  {
   "cell_type": "markdown",
   "metadata": {},
   "source": [
    "## Operador not:\n",
    "\n",
    "O operador not é um operador unário que nega o valor de uma expressão. Ou seja, ele inverte o valor booleano da expressão. Por exemplo:"
   ]
  },
  {
   "cell_type": "code",
   "execution_count": null,
   "metadata": {},
   "outputs": [],
   "source": [
    "x = True\n",
    "\n",
    "# Verifica se x é falso\n",
    "if not x:\n",
    "    print(\"x é falso.\")\n",
    "else:\n",
    "    print(\"x é verdadeiro.\")"
   ]
  },
  {
   "cell_type": "markdown",
   "metadata": {},
   "source": [
    "## BONUS\n",
    "\n",
    "## If ternário\n",
    "\n",
    "O operador ternário é uma forma concisa de escrever uma expressão condicional em apenas uma linha. Ele é útil quando você precisa atribuir um valor a uma variável com base em uma condição.\n",
    "\n",
    "Expressão sem o if ternário:"
   ]
  },
  {
   "cell_type": "code",
   "execution_count": null,
   "metadata": {},
   "outputs": [],
   "source": [
    "idade = 20\n",
    "if idade >= 18:\n",
    "    status = \"Adulto\"\n",
    "else:\n",
    "    status = \"Menor de idade\"\n",
    "print(status)"
   ]
  },
  {
   "cell_type": "markdown",
   "metadata": {},
   "source": [
    "Como ficaria esse if num operador ternário?"
   ]
  },
  {
   "cell_type": "code",
   "execution_count": 2,
   "metadata": {},
   "outputs": [
    {
     "name": "stdout",
     "output_type": "stream",
     "text": [
      "Adulto\n"
     ]
    }
   ],
   "source": [
    "idade = 20\n",
    "\n",
    "status = 'Adulto' if idade >=18 else \"Menor de idade\"\n",
    "\n",
    "print (status)"
   ]
  },
  {
   "cell_type": "markdown",
   "metadata": {},
   "source": [
    "## Exercícios:\n",
    "1. Escreva um programa que verifica se um número é positivo e par.\n"
   ]
  },
  {
   "cell_type": "code",
   "execution_count": 12,
   "metadata": {},
   "outputs": [
    {
     "name": "stdout",
     "output_type": "stream",
     "text": [
      "94 é positivo e par\n"
     ]
    }
   ],
   "source": [
    "import random \n",
    "\n",
    "num = random.randint(-100,100)\n",
    "\n",
    "if (num % 2 == 0) and (num >= 0):\n",
    "    print(f\"{num} é positivo e par\")\n",
    "else:\n",
    "    print(f\"{num} não é positivo ou par\")\n"
   ]
  },
  {
   "cell_type": "markdown",
   "metadata": {},
   "source": [
    "2. Escreva um programa que verifica se um número é múltiplo de 3 ou 5.\n"
   ]
  },
  {
   "cell_type": "markdown",
   "metadata": {},
   "source": [
    "3. Escreva um programa que verifica se um ano é bissexto.\n"
   ]
  },
  {
   "cell_type": "markdown",
   "metadata": {},
   "source": [
    "4. Escreva um programa que verifica se uma palavra começa com a letra 'A' ou 'B'.\n"
   ]
  },
  {
   "cell_type": "markdown",
   "metadata": {},
   "source": [
    "5. Escreva um programa que verifica se um número está no intervalo de 100 a 200.\n"
   ]
  },
  {
   "cell_type": "markdown",
   "metadata": {},
   "source": [
    "6. Escreva um programa que verifica se um número é positivo e não é múltiplo de 2."
   ]
  }
 ],
 "metadata": {
  "kernelspec": {
   "display_name": "Python 3",
   "language": "python",
   "name": "python3"
  },
  "language_info": {
   "codemirror_mode": {
    "name": "ipython",
    "version": 3
   },
   "file_extension": ".py",
   "mimetype": "text/x-python",
   "name": "python",
   "nbconvert_exporter": "python",
   "pygments_lexer": "ipython3",
   "version": "3.11.1"
  }
 },
 "nbformat": 4,
 "nbformat_minor": 2
}
