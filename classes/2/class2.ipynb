{
 "cells": [
  {
   "attachments": {},
   "cell_type": "markdown",
   "metadata": {},
   "source": [
    "## Tipos de variáveis\n",
    "    Os tipos de variáveis que iremos trabalhar nessa aula serão:\n",
    "Tipo  | Definição                                                                                       | Exemplo\n",
    "----- | ------------------------------------------------------------------------------------------------|-----------------------------------\n",
    "list  | Também conhecido por array é responsável por armazenar agrupamentos elementos variados, podendo conter: inteiros, floats, strings, outras listas e outros tipos.                                                                           | [2, 10.5, Abacaxi, True, [2, 10.5, Abacaxi, True]]\n",
    "tuple | Exatamente como a lista porém é imutável, isto é, depois de criada não é possível mudar nenhum elemento dentro dela.| (2, 10.5, Abacaxi, True, [2, 10.5,Abacaxi, True])\n",
    "dict  | Responsáveis por agrupar elementos através da estrutura de chave e valor, onde a chave é o primeiro elemento seguido por dois pontos e pelo valor.| {'Nome': 'Ruty', 'Idade': 23, 'vegetariano': True}"
   ]
  }
 ],
 "metadata": {
  "language_info": {
   "name": "python"
  },
  "orig_nbformat": 4
 },
 "nbformat": 4,
 "nbformat_minor": 2
}
