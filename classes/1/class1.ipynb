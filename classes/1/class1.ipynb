{
 "cells": [
  {
   "attachments": {},
   "cell_type": "markdown",
   "metadata": {},
   "source": [
    "# Aula 1"
   ]
  },
  {
   "attachments": {},
   "cell_type": "markdown",
   "metadata": {},
   "source": [
    "### O que é o Python?\n",
    "    O Python é uma linguagem de programação dinamicamente tipada, o que significa que não é necessário declarar o tipo de variável ou fazer casting (mudar o tipo de variável). Essa linguagem traz diversos benefícios, o mais importante pra gente agora é a sua simplicidade para aprendizagem, quando comparada a outras.\n",
    "\n",
    "Existem muitas aplicações possiveis para o Python entre elas as mais comuns estão:\n",
    "\n",
    "* Web Services\n",
    "* Data Science\n",
    "* Automações \n",
    "* Estrutura de dados em geral"
   ]
  },
  {
   "attachments": {},
   "cell_type": "markdown",
   "metadata": {},
   "source": [
    "## Tipos de variáveis\n",
    "    Os tipos de variáveis que iremos trabalhar nessa aula serão:\n",
    "\n",
    "Tipo  | Definição                                                                                       | Exemplo\n",
    "----- | ------------------------------------------------------------------------------------------------|-----------------------------------\n",
    "int   | Responsável por armazenar números inteiros (Positivos ou Negativos).                            | 2\n",
    "float | Responsável por armazenar números decimais (Positivos ou Negativos).                            | 10.5  \n",
    "str   | Responsável por armazenar palavras, frases ou textos.                                           | Abacaxi\n",
    "bool  | Responsável por armazenar dados do tipo lógico (Verdadeiro(1) ou falso(0)).                     | True   "
   ]
  },
  {
   "cell_type": "code",
   "execution_count": 2,
   "metadata": {},
   "outputs": [
    {
     "name": "stdout",
     "output_type": "stream",
     "text": [
      "Minha idade no ano de 2023 é 23 anos\n"
     ]
    }
   ],
   "source": [
    "# Exemplo de int\n",
    "idade = 23\n",
    "ano = 2023\n",
    "\n",
    "print(f'Minha idade no ano de {ano} é {idade} anos')"
   ]
  },
  {
   "cell_type": "code",
   "execution_count": 3,
   "metadata": {},
   "outputs": [
    {
     "name": "stdout",
     "output_type": "stream",
     "text": [
      "O seu saldo atual é 2300.5\n"
     ]
    }
   ],
   "source": [
    "# Exemplo de float\n",
    "saldo = 2300.50\n",
    "\n",
    "print(f'O seu saldo atual é {saldo}')"
   ]
  },
  {
   "cell_type": "code",
   "execution_count": 5,
   "metadata": {},
   "outputs": [
    {
     "name": "stdout",
     "output_type": "stream",
     "text": [
      "João tem um gato chamado Coelho\n"
     ]
    }
   ],
   "source": [
    "# Exemplo de string\n",
    "nomeDoTutor = 'João' \n",
    "nomeDoPet = 'Coelho'\n",
    "especie = 'gato'\n",
    "\n",
    "print(f'{nomeDoTutor} tem um {especie} chamado {nomeDoPet}')"
   ]
  },
  {
   "cell_type": "code",
   "execution_count": 7,
   "metadata": {},
   "outputs": [
    {
     "name": "stdout",
     "output_type": "stream",
     "text": [
      "Hoje é domingo? True\n"
     ]
    }
   ],
   "source": [
    "# Exemplo de bool \n",
    "hojeÉDomingo = bool(1)\n",
    "\n",
    "print(f'Hoje é domingo? {hojeÉDomingo}')"
   ]
  }
 ],
 "metadata": {
  "kernelspec": {
   "display_name": "env",
   "language": "python",
   "name": "python3"
  },
  "language_info": {
   "codemirror_mode": {
    "name": "ipython",
    "version": 3
   },
   "file_extension": ".py",
   "mimetype": "text/x-python",
   "name": "python",
   "nbconvert_exporter": "python",
   "pygments_lexer": "ipython3",
   "version": "3.8.7"
  },
  "orig_nbformat": 4
 },
 "nbformat": 4,
 "nbformat_minor": 2
}
